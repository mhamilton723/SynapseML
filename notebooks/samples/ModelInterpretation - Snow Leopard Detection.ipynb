{
  "cells":[
    {
      "cell_type":"markdown",
      "source":[
        "## Automated Snow Leopard Detection with Microsoft ML for Apache Spark\n\n<img src=\"https://mmlspark.blob.core.windows.net/graphics/SnowLeopardAD/SLTrust.PNG\" width=\"900\" style=\"float: right;\"/>"
      ],
      "metadata":{

      }
    },
    {
      "cell_type":"code",
      "source":[
        "import os\nBING_IMAGE_SEARCH_KEY = os.environ[\"BIN_IMAGE_SEARCH_KEY\"] #please add your key here"
      ],
      "metadata":{

      },
      "outputs":[

      ],
      "execution_count":2
    },
    {
      "cell_type":"code",
      "source":[
        "from mmlspark import *\nfrom mmlspark import FluentAPI\nimport os\nfrom pyspark.sql.functions import lit\n\ndef bingPhotoSearch(name, queries, pages):\n  offsets = [offset*10 for offset in range(0, pages)] \n  parameters = [(query, offset) for offset in offsets for query in queries]\n  \n  return spark.createDataFrame(parameters, (\"queries\",\"offsets\")) \\\n    .mlTransform(\n      BingImageSearch()                             # Apply Bing Image Search\n        .setSubscriptionKey(BING_IMAGE_SEARCH_KEY)  # Set the API Key\n        .setOffsetCol(\"offsets\")                    # Specify a column containing the offsets\n        .setQueryCol(\"queries\")                     # Specify a column containing the query words\n        .setCount(10)                               # Specify the number of images to return per offset\n        .setImageType(\"photo\")                      # Specify a filter to ensure we get photos\n        .setOutputCol(\"images\")) \\\n    .mlTransform(BingImageSearch.getUrlTransformer(\"images\", \"urls\")) \\\n    .withColumn(\"labels\", lit(name)) \\\n    .limit(200)\n"
      ],
      "metadata":{

      },
      "outputs":[

      ],
      "execution_count":3
    },
    {
      "cell_type":"markdown",
      "source":[
        "<img src=\"https://mmlspark.blob.core.windows.net/graphics/SparkSummit2/cog_services.png\" width=\"800\" style=\"float: right;\"/>"
      ],
      "metadata":{

      }
    },
    {
      "cell_type":"code",
      "source":[
        "def displayDF(df, n=5, image_cols = set([\"urls\"])):\n  rows = df.take(n)\n  cols = df.columns\n  header = \"\".join([\"<th>\" + c  + \"</th>\" for c in cols])\n  \n  style = \"\"\"\n<!DOCTYPE html>\n<html>\n<head>\n<style>\ntable {\n    font-family: arial, sans-serif;\n    border-collapse: collapse;\n    width: 300;\n}\n\ntd, th {\n    border: 1px solid #dddddd;\n    text-align: left;\n    padding: 8px;\n}\n\ntr:nth-child(even) {\n    background-color: #dddddd;\n}\n</style>\n</head>\"\"\"\n  \n  table = []\n  for row in rows:\n    table.append(\"<tr>\")\n    for col in cols:\n      if col in image_cols:\n        rep = '<img src=\"{}\",  width=\"100\">'.format(row[col])\n      else:\n        rep = row[col]\n      table.append(\"<td>{}</td>\".format(rep))\n    table.append(\"</tr>\")\n  tableHTML = \"\".join(table)\n  \n  body = \"\"\"\n<body>\n<table>\n  <tr>\n    {} \n  </tr>\n  {}\n</table>\n</body>\n</html>\n  \"\"\".format(header, tableHTML)\n  try:\n    displayHTML(style + body)\n  except:\n    pass"
      ],
      "metadata":{

      },
      "outputs":[

      ],
      "execution_count":5
    },
    {
      "cell_type":"code",
      "source":[
        "snowLeopardQueries = [\"snow leopard\"]\nsnowLeopardUrls = bingPhotoSearch(\"snow leopard\", snowLeopardQueries, pages=100)\ndisplayDF(snowLeopardUrls)"
      ],
      "metadata":{

      },
      "outputs":[

      ],
      "execution_count":6
    },
    {
      "cell_type":"code",
      "source":[
        "randomWords = spark.read.parquet(\"wasb://publicwasb@mmlspark.blob.core.windows.net/random_words.parquet\").repartition(20)\nrandomWords.show()"
      ],
      "metadata":{

      },
      "outputs":[

      ],
      "execution_count":7
    },
    {
      "cell_type":"code",
      "source":[
        "randomLinks = randomWords \\\n  .mlTransform(BingImageSearch()\n    .setSubscriptionKey(BING_IMAGE_SEARCH_KEY)\n    .setCount(10)\n    .setQueryCol(\"words\")\n    .setOutputCol(\"images\")) \\\n  .mlTransform(BingImageSearch.getUrlTransformer(\"images\", \"urls\")) \\\n  .withColumn(\"label\", lit(\"other\")) \\\n  .limit(200)\n  \ndisplayDF(randomLinks)"
      ],
      "metadata":{

      },
      "outputs":[

      ],
      "execution_count":8
    },
    {
      "cell_type":"code",
      "source":[
        "images = snowLeopardUrls.union(randomLinks)\\\n  .mlTransform(BingImageSearch.downloadFromUrls(\"urls\", \"image\", concurrency=5, timeout=5000))\\\n  .dropna().coalesce(50)\n\ntrain, test = images.randomSplit([.7,.3], seed=1)"
      ],
      "metadata":{

      },
      "outputs":[

      ],
      "execution_count":9
    },
    {
      "cell_type":"code",
      "source":[
        "from pyspark.ml import Pipeline\nfrom pyspark.ml.feature import StringIndexer\nfrom pyspark.ml.classification import LogisticRegression\n\ndef getIndex(row):\n  return float(row[1])\n\nnetwork = ModelDownloader(spark, \"dbfs:/Models/\").downloadByName(\"ResNet50\")\nmodel = Pipeline(stages=[\n  StringIndexer(inputCol = \"labels\", outputCol=\"index\"),\n  ImageFeaturizer(inputCol=\"image\", outputCol=\"features\", cutOutputLayers=2).setModel(network),\n  LogisticRegression(maxIter=20, labelCol=\"index\"),\n  UDFTransformer()\\\n      .setUDF(udf(getIndex, DoubleType()))\\\n      .setInputCol(\"probability\")\\\n      .setOutputCol(\"leopard_prob\")\n])\n\nfitModel = model.fit(train)"
      ],
      "metadata":{

      },
      "outputs":[

      ],
      "execution_count":10
    },
    {
      "cell_type":"markdown",
      "source":[
        "<img src=\"https://mmlspark.blob.core.windows.net/graphics/SnowLeopardAD/SLPipeline.PNG\" width=\"900\" style=\"float: right;\"/>"
      ],
      "metadata":{

      }
    },
    {
      "cell_type":"code",
      "source":[
        "def plotConfusionMatrix(df, label, prediction, classLabels):\n  from mmlspark.plot import confusionMatrix\n  import matplotlib.pyplot as plt\n  fig = plt.figure(figsize=(4.5, 4.5))\n  confusionMatrix(df, label, prediction, classLabels)\n  display(fig)\n\nplotConfusionMatrix(fitModel.transform(test), \"index\", \"prediction\", fitModel.stages[0].labels)"
      ],
      "metadata":{

      },
      "outputs":[

      ],
      "execution_count":12
    },
    {
      "cell_type":"code",
      "source":[
        "test_subsample = test.limit(1).cache()\n\nlime = ImageLIME()\\\n  .setModel(fit_model)\\\n  .setLabelCol(\"leopard_prob\")\\\n  .setOutputCol(\"weights\")\\\n  .setInputCol(\"image\")\\\n  .setCellSize(100.0)\\\n  .setModifier(50.0)\\\n  .setNSamples(200)\n\nresult = lime.transform(test_subsample)"
      ],
      "metadata":{

      },
      "outputs":[

      ],
      "execution_count":13
    },
    {
      "cell_type":"code",
      "source":[
        "import matplotlib.pyplot as plt\nimport PIL\nimport io\n\ndef plot_superpixels(sp_list, bytesRow):\n  img = (PIL.Image.open(io.BytesIO(bytesRow))).convert('RGBA')\n  f = np.asarray(img).copy()\n  fig, ax = plt.subplots()\n  for sp in sp_list:\n    for pixel in sp[1]: #access the pixel info\n      f[pixel[1],pixel[0],0] = 0\n      f[pixel[1],pixel[0],1] = 255\n      f[pixel[1],pixel[0],2] = 0\n      f[pixel[1],pixel[0],3] = 200 #opacity\n    plt.imshow(f)\n  display()\n\n# Gets first row from the LIME-transformed data frame\ntopRow= result.take(1)[0]\nurlRow = topRow['urls']\nbytesRow = topRow['image']\nsuperpixelsRow = topRow['superpixels']\nweightsRow = topRow['weights']\n\n#selects top 5 superpixels- zipped with weights to keep them together\nz = sorted(list(zip(weightsRow, superpixelsRow['clusters'])))\n\nmeanMaxDifference = np.max(weightsRow) - np.mean(weightsRow)\nhideAmount = 3\nthreshold = np.max(weightsRow) - (meanMaxDifference / hideAmount)\nplot_superpixels([i for i in z if i[0] >= threshold], bytesRow)"
      ],
      "metadata":{

      },
      "outputs":[

      ],
      "execution_count":14
    }
  ],
  "metadata":{
    "name":"Snow Leopard Detection with Model Interpretation",
    "notebookId":3150784648673928,
    "anaconda-cloud":{

    },
    "kernelspec":{
      "display_name":"Python [default]",
      "language":"python",
      "name":"python3"
    },
    "language_info":{
      "codemirror_mode":{
        "name":"ipython",
        "version":3
      },
      "file_extension":".py",
      "mimetype":"text/x-python",
      "name":"python",
      "nbconvert_exporter":"python",
      "pygments_lexer":"ipython3",
      "version":"3.6.3"
    }
  },
  "nbformat":4,
  "nbformat_minor":2
}